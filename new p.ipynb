{
 "cells": [
  {
   "attachments": {},
   "cell_type": "markdown",
   "metadata": {},
   "source": [
    "INVESTIGATING OR ANALYSING MATERIALS BY DETERMINING THEIR CHEMICAL OR PHYSICAL PROPERTIES\n",
    "\n",
    "I – Term detection\n",
    "\n",
    "1-1\tWhat do we call as a term?\n",
    "\n",
    "It a phrase or multiword or a word that have\n",
    "\n",
    "-\tA clear and specific meaning within the context of the patent\n",
    "\n",
    "-\tIt should not a common word or phrase found in everyday language\n",
    "\n",
    "-\tA technical or scientific concept, material, method or device that is specific to the invention described in the patent.\n",
    "\n",
    "1-2\tCreate a gold dataset\n",
    "\n",
    "1-3\tBuild a rule-based baseline (may using re or generating n-grams and filter it)\n",
    "\n",
    "1-4\tTrain a statistical model (bases on spacy)\n",
    "\n",
    "1-5\tImprove annotation using prodigy\n",
    "\n",
    "1-6\tEvaluate the model \n",
    "\n",
    "1-7\tIterate and refine the rule-based line\n"
   ]
  },
  {
   "cell_type": "code",
   "execution_count": 1,
   "metadata": {},
   "outputs": [
    {
     "name": "stderr",
     "output_type": "stream",
     "text": [
      "[nltk_data] Downloading package wordnet to\n",
      "[nltk_data]     C:\\Users\\etien\\AppData\\Roaming\\nltk_data...\n",
      "[nltk_data]   Package wordnet is already up-to-date!\n",
      "[nltk_data] Downloading package omw-1.4 to\n",
      "[nltk_data]     C:\\Users\\etien\\AppData\\Roaming\\nltk_data...\n",
      "[nltk_data]   Package omw-1.4 is already up-to-date!\n"
     ]
    },
    {
     "data": {
      "text/plain": [
       "'3.3.2'"
      ]
     },
     "execution_count": 1,
     "metadata": {},
     "output_type": "execute_result"
    }
   ],
   "source": [
    "import sys\n",
    "import time\n",
    "import json\n",
    "import pprint\n",
    "import numpy as np\n",
    "import pandas as pd\n",
    "from tqdm.notebook import tqdm\n",
    "from sklearn.model_selection import train_test_split\n",
    "from sklearn.feature_extraction.text import CountVectorizer\n",
    "import spacy\n",
    "from spacy.matcher import PhraseMatcher, Matcher\n",
    "from spacy.util import filter_spans\n",
    "from spacy import displacy\n",
    "from spacy.tokens import DocBin\n",
    "from spacy.tokens import Span\n",
    "from collections import Counter\n",
    "from nltk.tokenize import MWETokenizer\n",
    "from nltk.util import Trie\n",
    "import nltk\n",
    "from nltk.corpus import wordnet as wn\n",
    "nltk.download('wordnet')\n",
    "nltk.download('omw-1.4')\n",
    "tqdm.pandas()\n",
    "spacy.__version__\n"
   ]
  },
  {
   "cell_type": "code",
   "execution_count": 2,
   "metadata": {},
   "outputs": [
    {
     "data": {
      "text/plain": [
       "True"
      ]
     },
     "execution_count": 2,
     "metadata": {},
     "output_type": "execute_result"
    }
   ],
   "source": [
    "spacy.require_gpu()"
   ]
  },
  {
   "cell_type": "code",
   "execution_count": 3,
   "metadata": {},
   "outputs": [],
   "source": [
    "patent_data = open('G01N.txt').read().strip()\n",
    "\n",
    "# split into patents texts | 1 entry = 1 patent\n",
    "patent_texts = patent_data.split('\\n\\n')\n",
    "\n",
    "# split each patent into lines\n",
    "patent_lines = patent_data.split('\\n')"
   ]
  },
  {
   "cell_type": "code",
   "execution_count": 4,
   "metadata": {},
   "outputs": [
    {
     "data": {
      "text/plain": [
       "330594"
      ]
     },
     "execution_count": 4,
     "metadata": {},
     "output_type": "execute_result"
    }
   ],
   "source": [
    "len(patent_lines)"
   ]
  },
  {
   "cell_type": "code",
   "execution_count": 5,
   "metadata": {},
   "outputs": [
    {
     "data": {
      "text/plain": [
       "2139"
      ]
     },
     "execution_count": 5,
     "metadata": {},
     "output_type": "execute_result"
    }
   ],
   "source": [
    "len(patent_texts)"
   ]
  },
  {
   "cell_type": "code",
   "execution_count": 6,
   "metadata": {},
   "outputs": [],
   "source": [
    "def get_feature_names(vectorizer):\n",
    "    if hasattr(vectorizer, 'get_feature_names'):\n",
    "        return vectorizer.get_feature_names()\n",
    "    else:\n",
    "        return vectorizer.get_feature_names_out()"
   ]
  },
  {
   "cell_type": "code",
   "execution_count": 7,
   "metadata": {},
   "outputs": [
    {
     "name": "stdout",
     "output_type": "stream",
     "text": [
      "['antonio superchi', 'antonio tarver', 'antonio torres jurado', 'antonio valdes', 'antonio valdes y fernandez bazan', 'antonio valdez', 'antonio valdés y bazán', 'antonio valdés y fernández bazán', 'antonio valente', 'antonio vitali', 'antonio vivaldi', 'antonio xavier machado e cerveira']\n",
      "743274 mwes\n"
     ]
    }
   ],
   "source": [
    "# here are the potential terms\n",
    "mwes = open('manyterms.lower.txt').read().lower().strip().split('\\n')\n",
    "print(mwes[44444:44456])\n",
    "print(len(mwes), 'mwes')"
   ]
  },
  {
   "cell_type": "code",
   "execution_count": 8,
   "metadata": {},
   "outputs": [
    {
     "name": "stderr",
     "output_type": "stream",
     "text": [
      "c:\\Users\\etien\\anaconda3\\lib\\site-packages\\sklearn\\feature_extraction\\text.py:1380: UserWarning: Upper case characters found in vocabulary while 'lowercase' is True. These entries will not be matched with any documents\n",
      "  warnings.warn(\n"
     ]
    },
    {
     "data": {
      "text/html": [
       "<div>\n",
       "<style scoped>\n",
       "    .dataframe tbody tr th:only-of-type {\n",
       "        vertical-align: middle;\n",
       "    }\n",
       "\n",
       "    .dataframe tbody tr th {\n",
       "        vertical-align: top;\n",
       "    }\n",
       "\n",
       "    .dataframe thead th {\n",
       "        text-align: right;\n",
       "    }\n",
       "</style>\n",
       "<table border=\"1\" class=\"dataframe\">\n",
       "  <thead>\n",
       "    <tr style=\"text-align: right;\">\n",
       "      <th></th>\n",
       "      <th>0</th>\n",
       "    </tr>\n",
       "  </thead>\n",
       "  <tbody>\n",
       "    <tr>\n",
       "      <th>amino acid</th>\n",
       "      <td>24339</td>\n",
       "    </tr>\n",
       "    <tr>\n",
       "      <th>nucleic acid</th>\n",
       "      <td>13185</td>\n",
       "    </tr>\n",
       "    <tr>\n",
       "      <th>amino acid sequence</th>\n",
       "      <td>11407</td>\n",
       "    </tr>\n",
       "    <tr>\n",
       "      <th>light source</th>\n",
       "      <td>6943</td>\n",
       "    </tr>\n",
       "    <tr>\n",
       "      <th>amino acids</th>\n",
       "      <td>6170</td>\n",
       "    </tr>\n",
       "    <tr>\n",
       "      <th>control unit</th>\n",
       "      <td>5249</td>\n",
       "    </tr>\n",
       "    <tr>\n",
       "      <th>nucleotide sequence</th>\n",
       "      <td>4374</td>\n",
       "    </tr>\n",
       "    <tr>\n",
       "      <th>variable region</th>\n",
       "      <td>3264</td>\n",
       "    </tr>\n",
       "    <tr>\n",
       "      <th>mass spectrometry</th>\n",
       "      <td>3091</td>\n",
       "    </tr>\n",
       "    <tr>\n",
       "      <th>monoclonal antibody</th>\n",
       "      <td>2917</td>\n",
       "    </tr>\n",
       "    <tr>\n",
       "      <th>room temperature</th>\n",
       "      <td>2901</td>\n",
       "    </tr>\n",
       "    <tr>\n",
       "      <th>stem cells</th>\n",
       "      <td>2769</td>\n",
       "    </tr>\n",
       "    <tr>\n",
       "      <th>flow rate</th>\n",
       "      <td>2733</td>\n",
       "    </tr>\n",
       "    <tr>\n",
       "      <th>magnetic field</th>\n",
       "      <td>2644</td>\n",
       "    </tr>\n",
       "    <tr>\n",
       "      <th>exhaust gas</th>\n",
       "      <td>2523</td>\n",
       "    </tr>\n",
       "    <tr>\n",
       "      <th>mass spectrometer</th>\n",
       "      <td>2467</td>\n",
       "    </tr>\n",
       "    <tr>\n",
       "      <th>cross sectional</th>\n",
       "      <td>2446</td>\n",
       "    </tr>\n",
       "    <tr>\n",
       "      <th>gas sensor</th>\n",
       "      <td>2351</td>\n",
       "    </tr>\n",
       "    <tr>\n",
       "      <th>control device</th>\n",
       "      <td>2323</td>\n",
       "    </tr>\n",
       "    <tr>\n",
       "      <th>measurement device</th>\n",
       "      <td>2288</td>\n",
       "    </tr>\n",
       "    <tr>\n",
       "      <th>cross section</th>\n",
       "      <td>2138</td>\n",
       "    </tr>\n",
       "    <tr>\n",
       "      <th>image processing</th>\n",
       "      <td>2069</td>\n",
       "    </tr>\n",
       "    <tr>\n",
       "      <th>molecular weight</th>\n",
       "      <td>2066</td>\n",
       "    </tr>\n",
       "    <tr>\n",
       "      <th>real time</th>\n",
       "      <td>2019</td>\n",
       "    </tr>\n",
       "    <tr>\n",
       "      <th>threshold value</th>\n",
       "      <td>1929</td>\n",
       "    </tr>\n",
       "  </tbody>\n",
       "</table>\n",
       "</div>"
      ],
      "text/plain": [
       "                         0\n",
       "amino acid           24339\n",
       "nucleic acid         13185\n",
       "amino acid sequence  11407\n",
       "light source          6943\n",
       "amino acids           6170\n",
       "control unit          5249\n",
       "nucleotide sequence   4374\n",
       "variable region       3264\n",
       "mass spectrometry     3091\n",
       "monoclonal antibody   2917\n",
       "room temperature      2901\n",
       "stem cells            2769\n",
       "flow rate             2733\n",
       "magnetic field        2644\n",
       "exhaust gas           2523\n",
       "mass spectrometer     2467\n",
       "cross sectional       2446\n",
       "gas sensor            2351\n",
       "control device        2323\n",
       "measurement device    2288\n",
       "cross section         2138\n",
       "image processing      2069\n",
       "molecular weight      2066\n",
       "real time             2019\n",
       "threshold value       1929"
      ]
     },
     "execution_count": 8,
     "metadata": {},
     "output_type": "execute_result"
    }
   ],
   "source": [
    "# Here lowercase=False option is used to keep the original case of the terms, since we possibly could have term abbreviations. Like API, CAT, etc.\n",
    "cvectorizer = CountVectorizer(ngram_range=(\n",
    "    1, 4), stop_words=\"english\", vocabulary=mwes, lowercase=True)\n",
    "X = cvectorizer.fit_transform(patent_texts)\n",
    "\n",
    "# Show top-25 most frequent terms\n",
    "termdf_cv = pd.DataFrame(np.sum(X, axis=0), columns=get_feature_names(cvectorizer)).T.sort_values(by=0, ascending=False)\n",
    "termdf_cv.head(25)"
   ]
  },
  {
   "cell_type": "code",
   "execution_count": 9,
   "metadata": {},
   "outputs": [],
   "source": [
    "termdf_cv = termdf_cv[termdf_cv[0] >= 1]\n",
    "termdf_cv.to_csv('terms.tsv', sep='\\t')"
   ]
  },
  {
   "cell_type": "code",
   "execution_count": 10,
   "metadata": {},
   "outputs": [],
   "source": [
    "# !python -m spacy download en_core_web_lg\n",
    "#!python -m spacy download en_core_web_trf"
   ]
  },
  {
   "cell_type": "code",
   "execution_count": 11,
   "metadata": {},
   "outputs": [],
   "source": [
    "nlp = spacy.load(\"en_core_web_lg\")\n",
    "doc = nlp(patent_texts[0][10000:12000])\n",
    "#displacy.render(doc, style=\"ent\", jupyter=True)"
   ]
  },
  {
   "cell_type": "code",
   "execution_count": 12,
   "metadata": {},
   "outputs": [],
   "source": [
    "matcher = PhraseMatcher(nlp.vocab, attr=\"LOWER\")\n",
    "patterns = [nlp.make_doc(text) for text in termdf_cv.index]\n",
    "matcher.add(\"CH\", patterns)"
   ]
  },
  {
   "cell_type": "code",
   "execution_count": 13,
   "metadata": {},
   "outputs": [
    {
     "name": "stdout",
     "output_type": "stream",
     "text": [
      "231415\n",
      "99179\n"
     ]
    }
   ],
   "source": [
    "train_lines, test_lines = train_test_split(\n",
    "    patent_lines, test_size=0.3, random_state=42)\n",
    "\n",
    "\n",
    "print(len(train_lines))\n",
    "print(len(test_lines))"
   ]
  },
  {
   "cell_type": "code",
   "execution_count": 14,
   "metadata": {},
   "outputs": [],
   "source": [
    "def create_dataset(text, n_lines, filename, offset=0):\n",
    "    LABEL = \"CH\"\n",
    "    doc_bin = DocBin()  # create a DocBin object\n",
    "\n",
    "    for training_example in tqdm(text[offset:offset+n_lines]):\n",
    "        doc = nlp.make_doc(training_example)\n",
    "        ents = []\n",
    "\n",
    "        for match_id, start, end in matcher(doc):\n",
    "            span = Span(doc, start, end, label=LABEL)\n",
    "            if span is None:\n",
    "                print(\"Skipping entity\")\n",
    "            else:\n",
    "                ents.append(span)\n",
    "\n",
    "        filtered_ents = filter_spans(ents)\n",
    "        doc.ents = filtered_ents\n",
    "        doc_bin.add(doc)\n",
    "    doc_bin.to_disk(filename)"
   ]
  },
  {
   "cell_type": "code",
   "execution_count": 16,
   "metadata": {},
   "outputs": [
    {
     "data": {
      "application/vnd.jupyter.widget-view+json": {
       "model_id": "753101c32c734d579a657b1a3f90e222",
       "version_major": 2,
       "version_minor": 0
      },
      "text/plain": [
       "  0%|          | 0/60000 [00:00<?, ?it/s]"
      ]
     },
     "metadata": {},
     "output_type": "display_data"
    },
    {
     "data": {
      "application/vnd.jupyter.widget-view+json": {
       "model_id": "a6943e067c7c4fae965010ee8cb54f35",
       "version_major": 2,
       "version_minor": 0
      },
      "text/plain": [
       "  0%|          | 0/2000 [00:00<?, ?it/s]"
      ]
     },
     "metadata": {},
     "output_type": "display_data"
    },
    {
     "data": {
      "application/vnd.jupyter.widget-view+json": {
       "model_id": "66f3881fb5f349ae83c1a4c6e1c29367",
       "version_major": 2,
       "version_minor": 0
      },
      "text/plain": [
       "  0%|          | 0/3000 [00:00<?, ?it/s]"
      ]
     },
     "metadata": {},
     "output_type": "display_data"
    }
   ],
   "source": [
    "create_dataset(train_lines, 60000, \"training_data.spacy\")\n",
    "create_dataset(test_lines, 2000, \"test_data.spacy\")\n",
    "create_dataset(test_lines, 3000, \"valid_data.spacy\", offset=2000)"
   ]
  },
  {
   "cell_type": "code",
   "execution_count": 17,
   "metadata": {},
   "outputs": [],
   "source": [
    "# save train_lines to txt file\n",
    "with open('train_lines.txt', 'w') as f:\n",
    "    for line in train_lines:\n",
    "        f.write(line)\n",
    "        f.write('\\n')\n",
    "f.close()\n",
    "\n",
    "# save train_lines to txt file\n",
    "with open('valid_lines.txt', 'w') as f:\n",
    "    for line in test_lines[2000:5000]:\n",
    "        f.write(line)\n",
    "        f.write('\\n')\n",
    "f.close()\n",
    "\n",
    "# save test_lines to txt file\n",
    "with open('test_lines.txt', 'w') as f:\n",
    "    for line in test_lines[0:2000]:\n",
    "        f.write(line)\n",
    "        f.write('\\n')\n",
    "f.close()"
   ]
  },
  {
   "cell_type": "code",
   "execution_count": 18,
   "metadata": {},
   "outputs": [
    {
     "name": "stdout",
     "output_type": "stream",
     "text": [
      "✔ Auto-filled config with all values\n",
      "✔ Saved config\n",
      "config.cfg\n",
      "You can now add your data and train your pipeline:\n",
      "python -m spacy train config.cfg --paths.train ./train.spacy --paths.dev ./dev.spacy\n"
     ]
    }
   ],
   "source": [
    "# Run to generate full training config\n",
    "!python -m spacy init fill-config base_config.cfg config.cfg"
   ]
  },
  {
   "cell_type": "code",
   "execution_count": 19,
   "metadata": {},
   "outputs": [
    {
     "name": "stdout",
     "output_type": "stream",
     "text": [
      "✔ Created output directory: spacy_output"
     ]
    },
    {
     "name": "stderr",
     "output_type": "stream",
     "text": [
      "[2023-04-14 13:15:38,664] [INFO] Set up nlp object from config\n",
      "[2023-04-14 13:15:38,674] [INFO] Pipeline: ['tok2vec', 'ner']\n",
      "[2023-04-14 13:15:38,678] [INFO] Created vocabulary\n",
      "[2023-04-14 13:15:38,681] [INFO] Finished initializing nlp object\n",
      "[2023-04-14 13:16:46,998] [INFO] Initialized pipeline components: ['tok2vec', 'ner']\n"
     ]
    },
    {
     "name": "stdout",
     "output_type": "stream",
     "text": [
      "\n",
      "ℹ Saving to output directory: spacy_output\n",
      "ℹ Using CPU\n",
      "ℹ To switch to GPU 0, use the option: --gpu-id 0\n",
      "\u001b[1m\n",
      "=========================== Initializing pipeline ===========================\u001b[0m\n",
      "✔ Initialized pipeline\n",
      "\u001b[1m\n",
      "============================= Training pipeline =============================\u001b[0m\n",
      "ℹ Pipeline: ['tok2vec', 'ner']\n",
      "ℹ Initial learn rate: 0.001\n",
      "E    #       LOSS TOK2VEC  LOSS NER  ENTS_F  ENTS_P  ENTS_R  SCORE \n",
      "---  ------  ------------  --------  ------  ------  ------  ------\n",
      "  0       0          0.00     49.50    2.62    1.63    6.67    0.03\n",
      "  0     200         31.07   2389.20   16.91   65.13    9.72    0.17\n",
      "  0     400         31.20    836.19   31.39   60.78   21.16    0.31\n",
      "  0     600         51.40   1028.38   42.12   55.07   34.11    0.42\n",
      "  0     800       2755.18   1037.90   21.01   85.20   11.98    0.21\n",
      "  0    1000       9404.46    939.89   45.81   59.92   37.08    0.46\n",
      "  0    1200        137.78   1124.66   19.47   48.13   12.21    0.19\n",
      "  0    1400        204.03   1574.53   50.91   64.14   42.21    0.51\n",
      "  0    1600       8332.32   1569.84   49.04   71.40   37.34    0.49\n",
      "  0    1800        466.53   2029.48   52.82   72.40   41.58    0.53\n",
      "  0    2000        308.34   2171.85   56.01   65.47   48.93    0.56\n",
      "  0    2200       1289.11   2587.58   54.10   76.66   41.80    0.54\n",
      "  0    2400       2561.63   3312.93   51.92   72.02   40.59    0.52\n",
      "  0    2600       1312.54   3959.41   61.52   67.45   56.55    0.62\n",
      "  0    2800      17270.50   3516.49   62.98   68.62   58.20    0.63\n",
      "  0    3000       1177.73   3388.01   63.08   78.64   52.67    0.63\n",
      "  0    3200       3275.83   3495.58   60.73   64.24   57.59    0.61\n",
      "  0    3400      47904.28   3494.62   64.82   77.27   55.82    0.65\n",
      "  0    3600       2423.97   3635.81   64.76   81.12   53.89    0.65\n",
      "  0    3800       2513.06   3344.76   67.95   72.14   64.22    0.68\n",
      "  0    4000       1568.37   3267.65   67.98   73.75   63.05    0.68\n",
      "  0    4200      47177.71   3210.70   66.95   76.11   59.76    0.67\n",
      "  0    4400      72658.38   3290.02   52.89   88.83   37.66    0.53\n",
      "  0    4600       2420.05   3111.77   68.66   82.20   58.94    0.69\n",
      "  0    4800       9083.08   3068.47   69.64   82.29   60.36    0.70\n",
      "  0    5000      50910.87   3080.48   70.46   81.45   62.08    0.70\n",
      "  0    5200      56770.92   3241.35   71.50   78.47   65.67    0.72\n",
      "  0    5400       2093.48   2870.02   71.97   79.49   65.74    0.72\n",
      "  0    5600       2895.24   2881.81   72.48   76.86   68.57    0.72\n",
      "  0    5800       4060.61   2832.17   74.32   79.72   69.61    0.74\n",
      "  0    6000       4875.94   2632.43   71.81   83.76   62.85    0.72\n",
      "  0    6200       4280.72   2718.29   71.71   87.01   60.99    0.72\n",
      "  0    6400       5052.04   2486.24   66.73   89.42   53.22    0.67\n",
      "  0    6600       8050.20   2788.60   75.43   80.00   71.35    0.75\n",
      "  0    6800       2910.39   2527.04   74.46   78.18   71.08    0.74\n",
      "  0    7000       7844.08   2936.70   74.59   84.79   66.58    0.75\n",
      "  0    7200       4375.51   2463.09   74.11   84.02   66.30    0.74\n",
      "  0    7400       3567.26   2440.61   73.67   82.45   66.58    0.74\n",
      "  1    7600       4485.48   2501.30   74.08   84.96   65.67    0.74\n",
      "  1    7800       3118.56   2137.15   75.18   84.06   67.99    0.75\n",
      "  1    8000       3323.11   2235.19   73.72   88.69   63.07    0.74\n",
      "  1    8200       4107.58   2399.59   77.06   84.59   70.76    0.77\n",
      "  1    8400       3005.10   2233.90   77.63   82.97   72.93    0.78\n",
      "  1    8600       5574.39   2142.19   77.73   86.20   70.78    0.78\n",
      "  1    8800       4384.97   2161.82   78.68   79.64   77.74    0.79\n",
      "  1    9000       7007.60   2222.52   78.68   85.01   73.23    0.79\n",
      "  1    9200      56087.53   2241.33   79.07   81.99   76.35    0.79\n",
      "  1    9400       4980.52   2184.35   78.83   80.02   77.67    0.79\n",
      "  1    9600       3275.50   2154.84   77.17   85.22   70.50    0.77\n",
      "  1    9800       3447.51   1885.09   76.99   90.34   67.08    0.77\n",
      "  1   10000     232717.15   2201.94   78.11   85.09   72.19    0.78\n",
      "  1   10200      13876.94   2240.41   79.19   90.12   70.63    0.79\n",
      "  1   10400       5051.93   1876.07   78.94   88.28   71.39    0.79\n",
      "  1   10600       5523.91   2102.56   80.92   84.86   77.34    0.81\n",
      "  1   10800      26762.41   2313.98   81.19   84.36   78.25    0.81\n",
      "  1   11000       1396.54   2055.57   79.05   88.57   71.37    0.79\n",
      "  1   11200       5044.44   1916.88   81.13   85.85   76.89    0.81\n",
      "  1   11400     278933.20   2104.11   81.14   83.41   78.99    0.81\n",
      "  1   11600       2386.17   1838.05   80.57   82.90   78.36    0.81\n",
      "  1   11800       7392.39   2115.32   80.30   83.52   77.32    0.80\n",
      "  1   12000       5933.04   1915.09   75.52   79.18   72.19    0.76\n",
      "  1   12200       4410.73   1890.24   79.25   76.00   82.78    0.79\n",
      "  1   12400       5273.64   1860.15   82.14   84.10   80.27    0.82\n",
      "  1   12600       7276.38   1777.68   83.18   88.75   78.26    0.83\n",
      "  1   12800     141477.27   1873.85   81.26   92.34   72.56    0.81\n",
      "  1   13000       3786.25   1810.42   82.76   88.19   77.97    0.83\n",
      "  1   13200       9715.58   1850.08   82.24   88.99   76.44    0.82\n",
      "  1   13400       6178.12   1743.23   82.08   89.84   75.55    0.82\n",
      "  2   13600       5785.15   1718.62   83.65   89.72   78.34    0.84\n",
      "  2   13800       7848.04   1663.77   84.36   87.36   81.55    0.84\n",
      "  2   14000       4453.00   1653.52   82.47   85.28   79.84    0.82\n",
      "  2   14200       7246.20   1576.48   83.13   88.12   78.67    0.83\n",
      "  2   14400       3781.95   1640.88   83.61   87.46   80.09    0.84\n",
      "  2   14600       2634.44   1332.89   83.58   84.98   82.22    0.84\n",
      "  2   14800       3392.28   1636.86   83.71   86.89   80.75    0.84\n",
      "  2   15000       1368.88   1716.62   83.60   91.33   77.08    0.84\n",
      "  2   15200       3492.27   1549.14   84.16   87.47   81.09    0.84\n",
      "  2   15400       1096.06   1467.07   83.04   86.43   79.90    0.83\n",
      "✔ Saved pipeline to output directory\n",
      "spacy_output\\model-last\n"
     ]
    }
   ],
   "source": [
    "!python -m spacy train config.cfg --output ./spacy_output --paths.train ./training_data.spacy --paths.dev ./valid_data.spacy"
   ]
  },
  {
   "cell_type": "code",
   "execution_count": 20,
   "metadata": {},
   "outputs": [
    {
     "data": {
      "text/html": [
       "<span class=\"tex2jax_ignore\"><div class=\"entities\" style=\"line-height: 2.5; direction: ltr\">The scientific and technological terminologies referred to herein have the same meanings as what are generally understood by a person skilled in the art, and if there is a conflict, the definition in the present description shall prevail.</br>Firstly, in one aspect, the present invention provides a solid phase carrier (the solid phase carrier of the present invention) comprising:</br>a polydimethylsiloxane layer with an initiator on the surface, andtitanium dioxide particles distributed in said polydimethylsiloxane layer with an initiator on the surface.</br>Said polydimethylsiloxane with an initiator on the surface (iPDMS) belongs to the \n",
       "<mark class=\"entity\" style=\"background: #ddd; padding: 0.45em 0.6em; margin: 0 0.25em; line-height: 1; border-radius: 0.35em;\">\n",
       "    prior art\n",
       "    <span style=\"font-size: 0.8em; font-weight: bold; line-height: 1; border-radius: 0.35em; vertical-align: middle; margin-left: 0.5rem\">CH</span>\n",
       "</mark>\n",
       ", and reference can be made to Chinese Patent Publication No. CN 101265329 A.</br>\n",
       "<mark class=\"entity\" style=\"background: #ddd; padding: 0.45em 0.6em; margin: 0 0.25em; line-height: 1; border-radius: 0.35em;\">\n",
       "    Titanium dioxide\n",
       "    <span style=\"font-size: 0.8em; font-weight: bold; line-height: 1; border-radius: 0.35em; vertical-align: middle; margin-left: 0.5rem\">CH</span>\n",
       "</mark>\n",
       ", commonly known as titanium white, is usually a white powder. The crystal form of said \n",
       "<mark class=\"entity\" style=\"background: #ddd; padding: 0.45em 0.6em; margin: 0 0.25em; line-height: 1; border-radius: 0.35em;\">\n",
       "    titanium oxide\n",
       "    <span style=\"font-size: 0.8em; font-weight: bold; line-height: 1; border-radius: 0.35em; vertical-align: middle; margin-left: 0.5rem\">CH</span>\n",
       "</mark>\n",
       " is not particularly limited and may be, for example, of rutile type, anatase type or nanoscale ultrafine \n",
       "<mark class=\"entity\" style=\"background: #ddd; padding: 0.45em 0.6em; margin: 0 0.25em; line-height: 1; border-radius: 0.35em;\">\n",
       "    titanium dioxide\n",
       "    <span style=\"font-size: 0.8em; font-weight: bold; line-height: 1; border-radius: 0.35em; vertical-align: middle; margin-left: 0.5rem\">CH</span>\n",
       "</mark>\n",
       ".</br>Preferably, said \n",
       "<mark class=\"entity\" style=\"background: #ddd; padding: 0.45em 0.6em; margin: 0 0.25em; line-height: 1; border-radius: 0.35em;\">\n",
       "    titanium dioxide\n",
       "    <span style=\"font-size: 0.8em; font-weight: bold; line-height: 1; border-radius: 0.35em; vertical-align: middle; margin-left: 0.5rem\">CH</span>\n",
       "</mark>\n",
       " particles have an average \n",
       "<mark class=\"entity\" style=\"background: #ddd; padding: 0.45em 0.6em; margin: 0 0.25em; line-height: 1; border-radius: 0.35em;\">\n",
       "    particle size\n",
       "    <span style=\"font-size: 0.8em; font-weight: bold; line-height: 1; border-radius: 0.35em; vertical-align: middle; margin-left: 0.5rem\">CH</span>\n",
       "</mark>\n",
       " of 1 nm to 1000 nm, more preferably 5 nm to 500 nm, more preferably 5 nm to 200 nm, more preferably 10 nm to 100 nm, and more preferably 10 nm to 50 nm.</br>The specific \n",
       "<mark class=\"entity\" style=\"background: #ddd; padding: 0.45em 0.6em; margin: 0 0.25em; line-height: 1; border-radius: 0.35em;\">\n",
       "    surface area\n",
       "    <span style=\"font-size: 0.8em; font-weight: bold; line-height: 1; border-radius: 0.35em; vertical-align: middle; margin-left: 0.5rem\">CH</span>\n",
       "</mark>\n",
       " ofsaid \n",
       "<mark class=\"entity\" style=\"background: #ddd; padding: 0.45em 0.6em; margin: 0 0.25em; line-height: 1; border-radius: 0.35em;\">\n",
       "    titanium dioxide\n",
       "    <span style=\"font-size: 0.8em; font-weight: bold; line-height: 1; border-radius: 0.35em; vertical-align: middle; margin-left: 0.5rem\">CH</span>\n",
       "</mark>\n",
       " particles is preferably 10 to 500 m2/g, more preferably 20 to 400 m2/g, more preferably 30 to 300 m2/g, and more preferably 40 to 200 m2/g.</br>The content of said \n",
       "<mark class=\"entity\" style=\"background: #ddd; padding: 0.45em 0.6em; margin: 0 0.25em; line-height: 1; border-radius: 0.35em;\">\n",
       "    titanium dioxide\n",
       "    <span style=\"font-size: 0.8em; font-weight: bold; line-height: 1; border-radius: 0.35em; vertical-align: middle; margin-left: 0.5rem\">CH</span>\n",
       "</mark>\n",
       " particles is 0.0001 to 100 parts by weight, preferably 0.0002 to 90 parts by weight, more preferably 0.0005 to 80 parts by weight, more preferably 0.001 to 70 parts by weight, more preferably 0.002 to 60 parts by weight, more preferably 0.005 to 40 parts by weight, more preferably 0.01 to 40 parts by weight, more preferably 0.02 to 30 parts by weight, more preferably 0.05 to 20 parts by weight, and more preferably 0.1 to 10 parts by weight, relative to 100 parts by weight of said polydimethylsiloxane layer with an initiator on the surface.</br>Said solid phase carrier may be prepared, for example, by mixing macromolecular precursor A, cross-linking agent B, vinyl-endcapped initiator C, and said \n",
       "<mark class=\"entity\" style=\"background: #ddd; padding: 0.45em 0.6em; margin: 0 0.25em; line-height: 1; border-radius: 0.35em;\">\n",
       "    titanium dioxide\n",
       "    <span style=\"font-size: 0.8em; font-weight: bold; line-height: 1; border-radius: 0.35em; vertical-align: middle; margin-left: 0.5rem\">CH</span>\n",
       "</mark>\n",
       " particles D at a certain \n",
       "<mark class=\"entity\" style=\"background: #ddd; padding: 0.45em 0.6em; margin: 0 0.25em; line-height: 1; border-radius: 0.35em;\">\n",
       "    weight ratio\n",
       "    <span style=\"font-size: 0.8em; font-weight: bold; line-height: 1; border-radius: 0.35em; vertical-align: middle; margin-left: 0.5rem\">CH</span>\n",
       "</mark>\n",
       ", and leaving the mixture to stand, for example, for 6 to 24 hours to form an elastomer. In the mixture, said macromolecular precursor A is poly(dimethyl-methylvinylsiloxane); said cross-linking agent B is vinyl-endcapped poly(dimethyl-methylvinylsiloxane) and poly(dimethyl-methylhydrogenosiloxane); and said vinyl-endcapped initiator C is 10-undecenyl 2-bromo-2-methylpropionate.</br>The shape of said solid phase carrier includes, but is not limited to: beads, magnetic beads, films, microtubes, filter membranes, plates, microplates, \n",
       "<mark class=\"entity\" style=\"background: #ddd; padding: 0.45em 0.6em; margin: 0 0.25em; line-height: 1; border-radius: 0.35em;\">\n",
       "    carbon nanotubes\n",
       "    <span style=\"font-size: 0.8em; font-weight: bold; line-height: 1; border-radius: 0.35em; vertical-align: middle; margin-left: 0.5rem\">CH</span>\n",
       "</mark>\n",
       ", sensor chips, etc. Pits, grooves, \n",
       "<mark class=\"entity\" style=\"background: #ddd; padding: 0.45em 0.6em; margin: 0 0.25em; line-height: 1; border-radius: 0.35em;\">\n",
       "    filter membrane\n",
       "    <span style=\"font-size: 0.8em; font-weight: bold; line-height: 1; border-radius: 0.35em; vertical-align: middle; margin-left: 0.5rem\">CH</span>\n",
       "</mark>\n",
       " bottoms and the like may be provided on a flat solid phase carrier such as a film or a plate.</br>Preferably, said solid phase carrier further comprises: an oligomeric ethylene glycol methacrylate layer located on said polydimethylsiloxane layer with an initiator on the surface. Said oligomeric ethylene glycol methacrylate layer may be formed by initiating the polymerization of oligomeric ethylene glycol methacrylate on said polydimethylsiloxane layer with an initiator on the surface. Such a solid phase carrier can completely prevent non-specific adsorption of proteins.</br>In another aspect, the present invention provides a detection device (the detection device of the present invention) comprising: the above-mentioned solid phase carrier of the present invention, and a polypeptide or protein linked to said oligomeric ethylene glycol methacrylate layer. The manner by which said polypeptide or protein is linked to said oligomeric ethylene glycol methacrylate layer may be a covalent linkage, and reference can be made to, for example, the description of International Patent Application Publication WO 2014044184 for details. The polypeptide layer or protein herein refers to a compound obtained by the dehydration condensation of \n",
       "<mark class=\"entity\" style=\"background: #ddd; padding: 0.45em 0.6em; margin: 0 0.25em; line-height: 1; border-radius: 0.35em;\">\n",
       "    amino acid\n",
       "    <span style=\"font-size: 0.8em; font-weight: bold; line-height: 1; border-radius: 0.35em; vertical-align: middle; margin-left: 0.5rem\">CH</span>\n",
       "</mark>\n",
       " molecules, usually, the compound consisting of 2 to 50 \n",
       "<mark class=\"entity\" style=\"background: #ddd; padding: 0.45em 0.6em; margin: 0 0.25em; line-height: 1; border-radius: 0.35em;\">\n",
       "    amino acid\n",
       "    <span style=\"font-size: 0.8em; font-weight: bold; line-height: 1; border-radius: 0.35em; vertical-align: middle; margin-left: 0.5rem\">CH</span>\n",
       "</mark>\n",
       " residues is referred to as a polypeptide, and the compound consisting of 50 or more \n",
       "<mark class=\"entity\" style=\"background: #ddd; padding: 0.45em 0.6em; margin: 0 0.25em; line-height: 1; border-radius: 0.35em;\">\n",
       "    amino acid\n",
       "    <span style=\"font-size: 0.8em; font-weight: bold; line-height: 1; border-radius: 0.35em; vertical-align: middle; margin-left: 0.5rem\">CH</span>\n",
       "</mark>\n",
       " residues is referred to as a protein.</br>The detection device of the present invention has high detection sensitivity and can completely inhibit non-specific binding of proteins, and is thus particularly suitable for detecting a substance (e.g., a protein, a polypeptide, a \n",
       "<mark class=\"entity\" style=\"background: #ddd; padding: 0.45em 0.6em; margin: 0 0.25em; line-height: 1; border-radius: 0.35em;\">\n",
       "    small molecule\n",
       "    <span style=\"font-size: 0.8em; font-weight: bold; line-height: 1; border-radius: 0.35em; vertical-align: middle; margin-left: 0.5rem\">CH</span>\n",
       "</mark>\n",
       " compound, a \n",
       "<mark class=\"entity\" style=\"background: #ddd; padding: 0.45em 0.6em; margin: 0 0.25em; line-height: 1; border-radius: 0.35em;\">\n",
       "    nucleic acid\n",
       "    <span style=\"font-size: 0.8em; font-weight: bold; line-height: 1; border-radius: 0.35em; vertical-align: middle; margin-left: 0.5rem\">CH</span>\n",
       "</mark>\n",
       " and the like) capable of binding to the polypeptide or protein in said \n",
       "<mark class=\"entity\" style=\"background: #ddd; padding: 0.45em 0.6em; margin: 0 0.25em; line-height: 1; border-radius: 0.35em;\">\n",
       "    polypeptide layer\n",
       "    <span style=\"font-size: 0.8em; font-weight: bold; line-height: 1; border-radius: 0.35em; vertical-align: middle; margin-left: 0.5rem\">CH</span>\n",
       "</mark>\n",
       " or protein layer.</br>In another aspect, the present invention provides a detection kit (the detection kit of the present invention) comprising the above-mentioned detection device of the present invention or the solid phase carrier of the present invention. The detection kit of the present invention may further comprise other components, and reference can be made to, for example, the description of International Patent Application Publication WO 2014044184.</br>The detection kit of the present invention is also particularly suitable for detecting a substance (e.g., a protein, a polypeptide, a \n",
       "<mark class=\"entity\" style=\"background: #ddd; padding: 0.45em 0.6em; margin: 0 0.25em; line-height: 1; border-radius: 0.35em;\">\n",
       "    small molecule\n",
       "    <span style=\"font-size: 0.8em; font-weight: bold; line-height: 1; border-radius: 0.35em; vertical-align: middle; margin-left: 0.5rem\">CH</span>\n",
       "</mark>\n",
       " compound, a \n",
       "<mark class=\"entity\" style=\"background: #ddd; padding: 0.45em 0.6em; margin: 0 0.25em; line-height: 1; border-radius: 0.35em;\">\n",
       "    nucleic acid\n",
       "    <span style=\"font-size: 0.8em; font-weight: bold; line-height: 1; border-radius: 0.35em; vertical-align: middle; margin-left: 0.5rem\">CH</span>\n",
       "</mark>\n",
       " and the like) capable of binding to the polypeptide or protein in said \n",
       "<mark class=\"entity\" style=\"background: #ddd; padding: 0.45em 0.6em; margin: 0 0.25em; line-height: 1; border-radius: 0.35em;\">\n",
       "    polypeptide layer\n",
       "    <span style=\"font-size: 0.8em; font-weight: bold; line-height: 1; border-radius: 0.35em; vertical-align: middle; margin-left: 0.5rem\">CH</span>\n",
       "</mark>\n",
       " or protein layer.</br>Examples</br>The present invention will be described below in more detail by means of examples, but the present invention is not limited to these examples.</br>1. Preparation and confirmation of polypeptides</br>A peptide composed of 30 \n",
       "<mark class=\"entity\" style=\"background: #ddd; padding: 0.45em 0.6em; margin: 0 0.25em; line-height: 1; border-radius: 0.35em;\">\n",
       "    amino acids\n",
       "    <span style=\"font-size: 0.8em; font-weight: bold; line-height: 1; border-radius: 0.35em; vertical-align: middle; margin-left: 0.5rem\">CH</span>\n",
       "</mark>\n",
       " used in the examples has an \n",
       "<mark class=\"entity\" style=\"background: #ddd; padding: 0.45em 0.6em; margin: 0 0.25em; line-height: 1; border-radius: 0.35em;\">\n",
       "    amino acid sequence\n",
       "    <span style=\"font-size: 0.8em; font-weight: bold; line-height: 1; border-radius: 0.35em; vertical-align: middle; margin-left: 0.5rem\">CH</span>\n",
       "</mark>\n",
       " as set forth in SEQ ID NO: 1, which was synthesized by GL Biochem (Shanghai) Ltd.</br>SEQ ID NO: 1: PLVEDGVKQCDRYWPDEGASLYHVYEVNLV is positive for sera of patients with type 1 diabetes, and negative for sera of normal healthy individuals or non-type 1 diabetic patients, and reference can be made to Chinese Patent Application Publication No. CN104098677A.</br>2. Preparation of detection device</br>Detection devices 1-4 comprising SJ-modified \n",
       "<mark class=\"entity\" style=\"background: #ddd; padding: 0.45em 0.6em; margin: 0 0.25em; line-height: 1; border-radius: 0.35em;\">\n",
       "    silica gel\n",
       "    <span style=\"font-size: 0.8em; font-weight: bold; line-height: 1; border-radius: 0.35em; vertical-align: middle; margin-left: 0.5rem\">CH</span>\n",
       "</mark>\n",
       " thin films 1-4 of the invention were obtained as described in Example 2 of Chinese Patent Application Publication No. CN 104098677 A, except that in order to prepare the SJ-modified \n",
       "<mark class=\"entity\" style=\"background: #ddd; padding: 0.45em 0.6em; margin: 0 0.25em; line-height: 1; border-radius: 0.35em;\">\n",
       "    silica gel\n",
       "    <span style=\"font-size: 0.8em; font-weight: bold; line-height: 1; border-radius: 0.35em; vertical-align: middle; margin-left: 0.5rem\">CH</span>\n",
       "</mark>\n",
       " thin films 1-4 of the invention, the polydimethylsiloxane precursor A, cross-linking agent B, vinyl-endcapped initiator C and \n",
       "<mark class=\"entity\" style=\"background: #ddd; padding: 0.45em 0.6em; margin: 0 0.25em; line-height: 1; border-radius: 0.35em;\">\n",
       "    titanium oxide\n",
       "    <span style=\"font-size: 0.8em; font-weight: bold; line-height: 1; border-radius: 0.35em; vertical-align: middle; margin-left: 0.5rem\">CH</span>\n",
       "</mark>\n",
       " particles D (with an average \n",
       "<mark class=\"entity\" style=\"background: #ddd; padding: 0.45em 0.6em; margin: 0 0.25em; line-height: 1; border-radius: 0.35em;\">\n",
       "    particle size\n",
       "    <span style=\"font-size: 0.8em; font-weight: bold; line-height: 1; border-radius: 0.35em; vertical-align: middle; margin-left: 0.5rem\">CH</span>\n",
       "</mark>\n",
       " of 40 nm, a \n",
       "<mark class=\"entity\" style=\"background: #ddd; padding: 0.45em 0.6em; margin: 0 0.25em; line-height: 1; border-radius: 0.35em;\">\n",
       "    specific surface area\n",
       "    <span style=\"font-size: 0.8em; font-weight: bold; line-height: 1; border-radius: 0.35em; vertical-align: middle; margin-left: 0.5rem\">CH</span>\n",
       "</mark>\n",
       " of 60 m2/g, of rutile type) were sufficiently mixed at a ratio of A : B : C : D = 10 : 1 : 0.2 : (5, 1, 0.5 or 0.1), respectively.</br>Detection devices 5-8 comprising SJ-modified \n",
       "<mark class=\"entity\" style=\"background: #ddd; padding: 0.45em 0.6em; margin: 0 0.25em; line-height: 1; border-radius: 0.35em;\">\n",
       "    silica gel\n",
       "    <span style=\"font-size: 0.8em; font-weight: bold; line-height: 1; border-radius: 0.35em; vertical-align: middle; margin-left: 0.5rem\">CH</span>\n",
       "</mark>\n",
       " thin films 5-8 of the invention were obtained as described in Example 2 of Chinese Patent Application Publication No. CN 104098677 A, except that in order to prepare the SJ-modified \n",
       "<mark class=\"entity\" style=\"background: #ddd; padding: 0.45em 0.6em; margin: 0 0.25em; line-height: 1; border-radius: 0.35em;\">\n",
       "    silica gel\n",
       "    <span style=\"font-size: 0.8em; font-weight: bold; line-height: 1; border-radius: 0.35em; vertical-align: middle; margin-left: 0.5rem\">CH</span>\n",
       "</mark>\n",
       " thin films 5-8 of the invention, the polydimethylsiloxane precursor A, cross-linking agent B, vinyl-endcapped initiator C and \n",
       "<mark class=\"entity\" style=\"background: #ddd; padding: 0.45em 0.6em; margin: 0 0.25em; line-height: 1; border-radius: 0.35em;\">\n",
       "    titanium oxide\n",
       "    <span style=\"font-size: 0.8em; font-weight: bold; line-height: 1; border-radius: 0.35em; vertical-align: middle; margin-left: 0.5rem\">CH</span>\n",
       "</mark>\n",
       " particles D (with an average \n",
       "<mark class=\"entity\" style=\"background: #ddd; padding: 0.45em 0.6em; margin: 0 0.25em; line-height: 1; border-radius: 0.35em;\">\n",
       "    particle size\n",
       "    <span style=\"font-size: 0.8em; font-weight: bold; line-height: 1; border-radius: 0.35em; vertical-align: middle; margin-left: 0.5rem\">CH</span>\n",
       "</mark>\n",
       " of 20 nm, a \n",
       "<mark class=\"entity\" style=\"background: #ddd; padding: 0.45em 0.6em; margin: 0 0.25em; line-height: 1; border-radius: 0.35em;\">\n",
       "    specific surface area\n",
       "    <span style=\"font-size: 0.8em; font-weight: bold; line-height: 1; border-radius: 0.35em; vertical-align: middle; margin-left: 0.5rem\">CH</span>\n",
       "</mark>\n",
       " of 120 m2/g, of rutile type) were sufficiently mixed at a ratio of A : B : C : D = 10 : 1 : 0.2 : (5, 1, 0.5 or 0.1), respectively.</br>In addition, a detection device of Example 2 of Chinese Patent Application Publication No. CN 104098677 A (the SJ-modified \n",
       "<mark class=\"entity\" style=\"background: #ddd; padding: 0.45em 0.6em; margin: 0 0.25em; line-height: 1; border-radius: 0.35em;\">\n",
       "    silica gel\n",
       "    <span style=\"font-size: 0.8em; font-weight: bold; line-height: 1; border-radius: 0.35em; vertical-align: middle; margin-left: 0.5rem\">CH</span>\n",
       "</mark>\n",
       " thin film used does not comprise \n",
       "<mark class=\"entity\" style=\"background: #ddd; padding: 0.45em 0.6em; margin: 0 0.25em; line-height: 1; border-radius: 0.35em;\">\n",
       "    titanium oxide\n",
       "    <span style=\"font-size: 0.8em; font-weight: bold; line-height: 1; border-radius: 0.35em; vertical-align: middle; margin-left: 0.5rem\">CH</span>\n",
       "</mark>\n",
       " particles) was prepared as a control.</br>3. Detection with detection devices</div></span>"
      ],
      "text/plain": [
       "<IPython.core.display.HTML object>"
      ]
     },
     "metadata": {},
     "output_type": "display_data"
    }
   ],
   "source": [
    "# Load best model\n",
    "nlp= spacy.load(\"./spacy_output/model-best\")\n",
    "\n",
    "# Just text snippet\n",
    "doc = nlp(\"\"\"The scientific and technological terminologies referred to herein have the same meanings as what are generally understood by a person skilled in the art, and if there is a conflict, the definition in the present description shall prevail.\n",
    "Firstly, in one aspect, the present invention provides a solid phase carrier (the solid phase carrier of the present invention) comprising:\n",
    "a polydimethylsiloxane layer with an initiator on the surface, andtitanium dioxide particles distributed in said polydimethylsiloxane layer with an initiator on the surface.\n",
    "Said polydimethylsiloxane with an initiator on the surface (iPDMS) belongs to the prior art, and reference can be made to Chinese Patent Publication No. CN 101265329 A.\n",
    "Titanium dioxide, commonly known as titanium white, is usually a white powder. The crystal form of said titanium oxide is not particularly limited and may be, for example, of rutile type, anatase type or nanoscale ultrafine titanium dioxide.\n",
    "Preferably, said titanium dioxide particles have an average particle size of 1 nm to 1000 nm, more preferably 5 nm to 500 nm, more preferably 5 nm to 200 nm, more preferably 10 nm to 100 nm, and more preferably 10 nm to 50 nm.\n",
    "The specific surface area ofsaid titanium dioxide particles is preferably 10 to 500 m2/g, more preferably 20 to 400 m2/g, more preferably 30 to 300 m2/g, and more preferably 40 to 200 m2/g.\n",
    "The content of said titanium dioxide particles is 0.0001 to 100 parts by weight, preferably 0.0002 to 90 parts by weight, more preferably 0.0005 to 80 parts by weight, more preferably 0.001 to 70 parts by weight, more preferably 0.002 to 60 parts by weight, more preferably 0.005 to 40 parts by weight, more preferably 0.01 to 40 parts by weight, more preferably 0.02 to 30 parts by weight, more preferably 0.05 to 20 parts by weight, and more preferably 0.1 to 10 parts by weight, relative to 100 parts by weight of said polydimethylsiloxane layer with an initiator on the surface.\n",
    "Said solid phase carrier may be prepared, for example, by mixing macromolecular precursor A, cross-linking agent B, vinyl-endcapped initiator C, and said titanium dioxide particles D at a certain weight ratio, and leaving the mixture to stand, for example, for 6 to 24 hours to form an elastomer. In the mixture, said macromolecular precursor A is poly(dimethyl-methylvinylsiloxane); said cross-linking agent B is vinyl-endcapped poly(dimethyl-methylvinylsiloxane) and poly(dimethyl-methylhydrogenosiloxane); and said vinyl-endcapped initiator C is 10-undecenyl 2-bromo-2-methylpropionate.\n",
    "The shape of said solid phase carrier includes, but is not limited to: beads, magnetic beads, films, microtubes, filter membranes, plates, microplates, carbon nanotubes, sensor chips, etc. Pits, grooves, filter membrane bottoms and the like may be provided on a flat solid phase carrier such as a film or a plate.\n",
    "Preferably, said solid phase carrier further comprises: an oligomeric ethylene glycol methacrylate layer located on said polydimethylsiloxane layer with an initiator on the surface. Said oligomeric ethylene glycol methacrylate layer may be formed by initiating the polymerization of oligomeric ethylene glycol methacrylate on said polydimethylsiloxane layer with an initiator on the surface. Such a solid phase carrier can completely prevent non-specific adsorption of proteins.\n",
    "In another aspect, the present invention provides a detection device (the detection device of the present invention) comprising: the above-mentioned solid phase carrier of the present invention, and a polypeptide or protein linked to said oligomeric ethylene glycol methacrylate layer. The manner by which said polypeptide or protein is linked to said oligomeric ethylene glycol methacrylate layer may be a covalent linkage, and reference can be made to, for example, the description of International Patent Application Publication WO 2014044184 for details. The polypeptide layer or protein herein refers to a compound obtained by the dehydration condensation of amino acid molecules, usually, the compound consisting of 2 to 50 amino acid residues is referred to as a polypeptide, and the compound consisting of 50 or more amino acid residues is referred to as a protein.\n",
    "The detection device of the present invention has high detection sensitivity and can completely inhibit non-specific binding of proteins, and is thus particularly suitable for detecting a substance (e.g., a protein, a polypeptide, a small molecule compound, a nucleic acid and the like) capable of binding to the polypeptide or protein in said polypeptide layer or protein layer.\n",
    "In another aspect, the present invention provides a detection kit (the detection kit of the present invention) comprising the above-mentioned detection device of the present invention or the solid phase carrier of the present invention. The detection kit of the present invention may further comprise other components, and reference can be made to, for example, the description of International Patent Application Publication WO 2014044184.\n",
    "The detection kit of the present invention is also particularly suitable for detecting a substance (e.g., a protein, a polypeptide, a small molecule compound, a nucleic acid and the like) capable of binding to the polypeptide or protein in said polypeptide layer or protein layer.\n",
    "Examples\n",
    "The present invention will be described below in more detail by means of examples, but the present invention is not limited to these examples.\n",
    "1. Preparation and confirmation of polypeptides\n",
    "A peptide composed of 30 amino acids used in the examples has an amino acid sequence as set forth in SEQ ID NO: 1, which was synthesized by GL Biochem (Shanghai) Ltd.\n",
    "SEQ ID NO: 1: PLVEDGVKQCDRYWPDEGASLYHVYEVNLV is positive for sera of patients with type 1 diabetes, and negative for sera of normal healthy individuals or non-type 1 diabetic patients, and reference can be made to Chinese Patent Application Publication No. CN104098677A.\n",
    "2. Preparation of detection device\n",
    "Detection devices 1-4 comprising SJ-modified silica gel thin films 1-4 of the invention were obtained as described in Example 2 of Chinese Patent Application Publication No. CN 104098677 A, except that in order to prepare the SJ-modified silica gel thin films 1-4 of the invention, the polydimethylsiloxane precursor A, cross-linking agent B, vinyl-endcapped initiator C and titanium oxide particles D (with an average particle size of 40 nm, a specific surface area of 60 m2/g, of rutile type) were sufficiently mixed at a ratio of A : B : C : D = 10 : 1 : 0.2 : (5, 1, 0.5 or 0.1), respectively.\n",
    "Detection devices 5-8 comprising SJ-modified silica gel thin films 5-8 of the invention were obtained as described in Example 2 of Chinese Patent Application Publication No. CN 104098677 A, except that in order to prepare the SJ-modified silica gel thin films 5-8 of the invention, the polydimethylsiloxane precursor A, cross-linking agent B, vinyl-endcapped initiator C and titanium oxide particles D (with an average particle size of 20 nm, a specific surface area of 120 m2/g, of rutile type) were sufficiently mixed at a ratio of A : B : C : D = 10 : 1 : 0.2 : (5, 1, 0.5 or 0.1), respectively.\n",
    "In addition, a detection device of Example 2 of Chinese Patent Application Publication No. CN 104098677 A (the SJ-modified silica gel thin film used does not comprise titanium oxide particles) was prepared as a control.\n",
    "3. Detection with detection devices\"\"\")\n",
    "\n",
    "# Show NER results\n",
    "spacy.displacy.render(doc, style=\"ent\", jupyter=True)"
   ]
  },
  {
   "attachments": {},
   "cell_type": "markdown",
   "metadata": {},
   "source": [
    "### Improve the model using prodigy"
   ]
  },
  {
   "cell_type": "code",
   "execution_count": 21,
   "metadata": {},
   "outputs": [],
   "source": [
    "# !pip install C:\\Users\\etien\\Downloads\\prodigy-1.11.11-windows\\windows\\prodigy-1.11.11-cp39-cp39-win_amd64.whl"
   ]
  },
  {
   "cell_type": "code",
   "execution_count": 22,
   "metadata": {},
   "outputs": [],
   "source": [
    "# !python -m prodigy"
   ]
  },
  {
   "cell_type": "code",
   "execution_count": 30,
   "metadata": {},
   "outputs": [
    {
     "name": "stdout",
     "output_type": "stream",
     "text": [
      "Using 1 label(s): CH\n",
      "Added dataset val_fine_tune to database SQLite.\n",
      "⚠ The model you're using isn't setting sentence boundaries (e.g. via the parser\n",
      "or sentencizer). This means that incoming examples won't be split into\n",
      "sentences.\n",
      "\n",
      "✨  Starting the web server at http://localhost:8080 ...\n",
      "Open the app in your browser and start annotating!\n",
      "\n"
     ]
    },
    {
     "name": "stderr",
     "output_type": "stream",
     "text": [
      "ERROR:    [Errno 10048] error while attempting to bind on address ('::1', 8080, 0, 0): only one usage of each socket address (protocol/network address/port) is normally permitted\n"
     ]
    }
   ],
   "source": [
    "!python -m prodigy ner.correct gold_tech  ./spacy_output/model-best  valid_lines.txt --label CH"
   ]
  },
  {
   "cell_type": "code",
   "execution_count": 32,
   "metadata": {},
   "outputs": [
    {
     "name": "stdout",
     "output_type": "stream",
     "text": [
      "  TCP    127.0.0.1:8080         0.0.0.0:0              LISTENING       7812\n",
      "  TCP    [::1]:8080             [::]:0                 LISTENING       7812\n"
     ]
    }
   ],
   "source": [
    "!netstat -ano | findstr :8080"
   ]
  },
  {
   "cell_type": "code",
   "execution_count": 33,
   "metadata": {},
   "outputs": [
    {
     "name": "stderr",
     "output_type": "stream",
     "text": [
      "The system cannot find the file specified.\n"
     ]
    }
   ],
   "source": [
    "!Taskkill /PID <PIDProdigy> /F"
   ]
  }
 ],
 "metadata": {
  "kernelspec": {
   "display_name": "NLP",
   "language": "python",
   "name": "python3"
  },
  "language_info": {
   "codemirror_mode": {
    "name": "ipython",
    "version": 3
   },
   "file_extension": ".py",
   "mimetype": "text/x-python",
   "name": "python",
   "nbconvert_exporter": "python",
   "pygments_lexer": "ipython3",
   "version": "3.9.12"
  },
  "orig_nbformat": 4
 },
 "nbformat": 4,
 "nbformat_minor": 2
}
